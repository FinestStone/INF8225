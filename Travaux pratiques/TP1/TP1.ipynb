{
 "cells": [
  {
   "cell_type": "markdown",
   "metadata": {},
   "source": [
    "## 1.1"
   ]
  },
  {
   "cell_type": "code",
   "execution_count": 1,
   "metadata": {},
   "outputs": [],
   "source": [
    "import numpy as np\n",
    "import matplotlib.pyplot as plt"
   ]
  },
  {
   "cell_type": "code",
   "execution_count": 2,
   "metadata": {},
   "outputs": [
    {
     "name": "stdout",
     "output_type": "stream",
     "text": [
      "Pr(Pluie)=[0.8 0.2]\n",
      "\n",
      "Pr(Arroseur)=[0.9 0.1]\n",
      "\n",
      "Pr(Watson|Pluie)=[[0.8 0.2]\n",
      " [0.  1. ]]\n",
      "\n"
     ]
    }
   ],
   "source": [
    "# les arrays sont batis avec les dimensions suivantes :\n",
    "# pluie, arroseur, watson, holmes\n",
    "# et chaque dimension: faux, vrai\n",
    "\n",
    "prob_pluie = np.array([0.8, 0.2]).reshape(2, 1, 1, 1)\n",
    "print(\"Pr(Pluie)={}\\n\".format(np.squeeze(prob_pluie)))\n",
    "\n",
    "prob_arroseur = np.array([0.9, 0.1]).reshape(1, 2, 1, 1)\n",
    "print(\"Pr(Arroseur)={}\\n\".format(np.squeeze(prob_arroseur)))\n",
    "\n",
    "watson = np.array([[0.8, 0.2], [0, 1]]).reshape(2,1,2,1)\n",
    "print(\"Pr(Watson|Pluie)={}\\n\".format(np.squeeze(watson)))"
   ]
  },
  {
   "cell_type": "code",
   "execution_count": 3,
   "metadata": {},
   "outputs": [
    {
     "name": "stdout",
     "output_type": "stream",
     "text": [
      "Pr(Holmes|Pluie,arroseur)=[[[1.  0. ]\n",
      "  [0.1 0.9]]\n",
      "\n",
      " [[0.  1. ]\n",
      "  [0.  1. ]]]\n",
      "\n"
     ]
    }
   ],
   "source": [
    "holmes = np.array([[1, 0],[0.1, 0.9],[0, 1],[0, 1]]).reshape(2, 2, 1, 2)\n",
    "print(\"Pr(Holmes|Pluie,arroseur)={}\\n\".format(np.squeeze(holmes)))"
   ]
  },
  {
   "cell_type": "code",
   "execution_count": 4,
   "metadata": {},
   "outputs": [
    {
     "data": {
      "text/plain": [
       "array([[0.2]])"
      ]
     },
     "execution_count": 4,
     "metadata": {},
     "output_type": "execute_result"
    }
   ],
   "source": [
    "watson[0,:,1,:] # prob watson mouille − pluie"
   ]
  },
  {
   "cell_type": "code",
   "execution_count": 5,
   "metadata": {},
   "outputs": [
    {
     "data": {
      "text/plain": [
       "0.36000000000000004"
      ]
     },
     "execution_count": 5,
     "metadata": {},
     "output_type": "execute_result"
    }
   ],
   "source": [
    "(watson * prob_pluie).sum(0).squeeze()[1] # prob gazon watson mouille"
   ]
  },
  {
   "cell_type": "code",
   "execution_count": 6,
   "metadata": {},
   "outputs": [
    {
     "data": {
      "text/plain": [
       "0.9"
      ]
     },
     "execution_count": 6,
     "metadata": {},
     "output_type": "execute_result"
    }
   ],
   "source": [
    "holmes[0, 1, 0, 1] # prob gazon holmes mouille si arroseur − pluie"
   ]
  },
  {
   "cell_type": "code",
   "execution_count": 7,
   "metadata": {
    "scrolled": true
   },
   "outputs": [
    {
     "name": "stdout",
     "output_type": "stream",
     "text": [
      "Pr(W = 1) = 0.36000000000000004\n",
      "\n",
      "Pr(W = 1|H = 1) = 0.7882352941176471\n",
      "\n",
      "Pr(W = 1|H = 1, A = 0) = 1.0\n",
      "\n",
      "Pr(W = 1|A = 0) = 0.36000000000000004\n",
      "\n",
      "Pr(W = 1|P = 1) = 1.0\n",
      "\n"
     ]
    }
   ],
   "source": [
    "print(\"Pr(W = 1) = {}\\n\".format(np.squeeze((watson * prob_pluie).sum(0).squeeze()[1])))\n",
    "print(\"Pr(W = 1|H = 1) = {}\\n\".format((prob_pluie * prob_arroseur * watson * holmes)[:,:,1,1].sum()/(prob_pluie * prob_arroseur * watson * holmes)[:,:,:,1].sum()))\n",
    "print(\"Pr(W = 1|H = 1, A = 0) = {}\\n\".format((prob_pluie * prob_arroseur * watson * holmes)[:,0,1,1].sum()/(prob_pluie * prob_arroseur * watson * holmes)[:,0,:,1].sum()))\n",
    "print(\"Pr(W = 1|A = 0) = {}\\n\".format((prob_pluie * prob_arroseur * watson * holmes)[:,0,1,:].sum()/(prob_pluie * prob_arroseur * watson * holmes)[:,0,:,:].sum()))\n",
    "print(\"Pr(W = 1|P = 1) = {}\\n\".format((prob_pluie * prob_arroseur * watson * holmes)[1,:,1,:].sum()/(prob_pluie * prob_arroseur * watson * holmes)[1,:,:,:].sum()))"
   ]
  },
  {
   "cell_type": "markdown",
   "metadata": {},
   "source": [
    "## 2.2"
   ]
  },
  {
   "cell_type": "markdown",
   "metadata": {},
   "source": [
    "### a)"
   ]
  },
  {
   "cell_type": "code",
   "execution_count": 8,
   "metadata": {},
   "outputs": [],
   "source": [
    "import numpy as np\n",
    "import matplotlib.pyplot as plt\n",
    "from sklearn import datasets\n",
    "from sklearn.model_selection import train_test_split\n",
    "\n",
    "digits = datasets.load_digits()\n",
    "\n",
    "X = digits.data\n",
    "y = digits.target"
   ]
  },
  {
   "cell_type": "code",
   "execution_count": 9,
   "metadata": {},
   "outputs": [],
   "source": [
    "def softmax(x): # definition taken from the book (p.397)\n",
    "    e_x = np.exp(x-x.max(0)) # Substract the maximum value doesn't alter the result and ensures numerical stability\n",
    "    return e_x/e_x.sum(0)\n",
    "\n",
    "def get_accuracy(X, y, W):\n",
    "    y_hat_one_hot = softmax(W @ X.T) # Finding, for each image, the probability that it belongs to each class\n",
    "    y_hat = np.argmax(y_hat_one_hot, axis=0) # Classifying the image with the most probable class according to the softmax\n",
    "    y_class = np.argmax(y, axis=1) # Correct classes for each image in the set\n",
    "    return np.sum(y_class == y_hat)/y.shape[0] # Correctly classified images / Total number of images in the set\n",
    "\n",
    "def get_grads(y, y_pred, X):\n",
    "    return y.T @ X - y_pred.T @ X # Definition of the gradient of the log-conditional-likelihood given in the assignment\n",
    "\n",
    "def get_loss(y, y_pred):\n",
    "    return np.nanmean(-y*np.log(y_pred.T))"
   ]
  },
  {
   "cell_type": "code",
   "execution_count": 10,
   "metadata": {},
   "outputs": [],
   "source": [
    "def train_model(X, y, lr, size):\n",
    "    y_one_hot = np.zeros((y.shape[0], len(np.unique(y))))\n",
    "    y_one_hot[np.arange(y.shape[0]), y] = 1 # one hot target or shape NxK\n",
    "\n",
    "    X_train, X_test, y_train, y_test = train_test_split(X, y_one_hot, test_size=0.3, random_state=42)\n",
    "\n",
    "    X_test, X_validation, y_test, y_validation = train_test_split(X_test, y_test, test_size=0.5, random_state=42)\n",
    "    \n",
    "    W = np.random.normal(0, 0.01, (len(np.unique(y)), X.shape[1])) # weights of shape KxL\n",
    "\n",
    "    best_W = None\n",
    "    best_accuracy = 0\n",
    "    nb_epochs = 50\n",
    "    minibatch_size = len(y) // size\n",
    "    \n",
    "    losses = []\n",
    "    accuracies = []\n",
    "    \n",
    "    for epoch in range(nb_epochs):\n",
    "        loss = 0\n",
    "        accuracy = 0\n",
    "        for i in range(0 , X_train.shape[0], minibatch_size):\n",
    "            y_pred = softmax(W @ X_train[i:i+minibatch_size,:].T).T\n",
    "            grads = get_grads(y_train[i:i+minibatch_size], y_pred, X_train[i:i+minibatch_size])\n",
    "            W = W + lr*grads\n",
    "        loss = get_loss(y_train, softmax(W @ X_train.T))\n",
    "        losses.append(loss) # compute the loss on the train set\n",
    "        accuracy = get_accuracy(X_validation, y_validation, W)\n",
    "        accuracies.append(accuracy) # compute the accuracy on the validation set\n",
    "        if accuracy > best_accuracy:\n",
    "            best_accuracy = accuracy\n",
    "            best_W = W  # select the best parameters based on the validation accuracy\n",
    "    \n",
    "    accuracy_on_unseen_data = get_accuracy(X_test, y_test, best_W)\n",
    "    print(accuracy_on_unseen_data) # 0.897506925208\n",
    "    \n",
    "    return losses"
   ]
  },
  {
   "cell_type": "code",
   "execution_count": 11,
   "metadata": {},
   "outputs": [
    {
     "name": "stderr",
     "output_type": "stream",
     "text": [
      "/home/etienne/anaconda3/lib/python3.7/site-packages/ipykernel_launcher.py:15: RuntimeWarning: divide by zero encountered in log\n",
      "  from ipykernel import kernelapp as app\n",
      "/home/etienne/anaconda3/lib/python3.7/site-packages/ipykernel_launcher.py:15: RuntimeWarning: invalid value encountered in multiply\n",
      "  from ipykernel import kernelapp as app\n"
     ]
    },
    {
     "name": "stdout",
     "output_type": "stream",
     "text": [
      "0.9444444444444444\n",
      "0.9777777777777777\n",
      "0.9629629629629629\n",
      "0.9666666666666667\n",
      "0.9592592592592593\n",
      "0.9629629629629629\n",
      "0.9666666666666667\n",
      "0.9518518518518518\n",
      "0.937037037037037\n",
      "0.9481481481481482\n",
      "0.9555555555555556\n",
      "0.9518518518518518\n"
     ]
    },
    {
     "data": {
      "image/png": "[encoded data removed]",
      "text/plain": [
       "<Figure size 1224x432 with 3 Axes>"
      ]
     },
     "metadata": {
      "needs_background": "light"
     },
     "output_type": "display_data"
    }
   ],
   "source": [
    "lr = np.array([0.1, 0.01, 0.001])\n",
    "mini_batch_size = np.array([1, 20, 200, 1000])\n",
    "\n",
    "plt.figure(figsize=(17,6))\n",
    "sub_plt = 131\n",
    "\n",
    "for j in range(len(lr)):\n",
    "    plt.subplot(sub_plt)\n",
    "    sub_plt += 1\n",
    "    for i in range(len(mini_batch_size)):\n",
    "        losses = train_model(X, y, lr[j], mini_batch_size[i])\n",
    "        plt.plot(losses, label = 'Mini-batch size : %d'%(mini_batch_size[i]))\n",
    "    plt.title('Average negative log-likelihood (learning rate : %0.3f)'%lr[j])\n",
    "    plt.xlabel('Epoch')\n",
    "    plt.ylabel('Average negative log-likelihood')\n",
    "    plt.legend(loc='best')\n",
    "plt.savefig('Figures/2_2_a.eps', format='eps')\n",
    "plt.show()"
   ]
  },
  {
   "cell_type": "markdown",
   "metadata": {},
   "source": [
    "### b)"
   ]
  },
  {
   "cell_type": "code",
   "execution_count": 12,
   "metadata": {},
   "outputs": [],
   "source": [
    "y_one_hot = np.zeros((y.shape[0], len(np.unique(y))))\n",
    "y_one_hot[np.arange(y.shape[0]), y] = 1 # one hot target or shape NxK\n",
    "\n",
    "X_train, X_test, y_train, y_test = train_test_split(X, y_one_hot, test_size=0.3, random_state=42)\n",
    "X_test, X_validation, y_test, y_validation = train_test_split(X_test, y_test, test_size=0.5, random_state=42)\n",
    "\n",
    "# Ajout de 8 dimensions supplémentaires à la fin de chaque exemple dans:\n",
    "X_train_new_set = np.zeros((len(X_train), X_train.shape[1] + 8)) # l’ensemble d’entraînement\n",
    "X_validation_new_set = np.zeros((len(X_validation), X_validation.shape[1] + 8)) # l’ensemble de validation\n",
    "X_test_new_set = np.zeros((len(X_validation), X_validation.shape[1] + 8)) # l’ensemble de test"
   ]
  },
  {
   "cell_type": "code",
   "execution_count": 13,
   "metadata": {},
   "outputs": [],
   "source": [
    "# Remplissage des dimensions avec des valeurs aléatoires (distribution uniforme entre la plus petite et la plus grande valeur)\n",
    "new_data = np.random.uniform(np.min(X_train), np.max(X_train), (X_train.shape[0], 8))\n",
    "for i in range(0, len(X_train)):\n",
    "    X_train_new_set[i,:] = np.concatenate((X_train[i,:], new_data[i,:]))\n",
    "\n",
    "new_data = np.random.uniform(np.min(X_validation), np.max(X_validation), (X_validation.shape[0], 8))\n",
    "for i in range(0, len(X_validation)):\n",
    "    X_validation_new_set[i,:] = np.concatenate((X_validation[i,:], new_data[i,:]))\n",
    "\n",
    "new_data = np.random.uniform(np.min(X_test), np.max(X_test), (X_test.shape[0], 8))\n",
    "for i in range(0, len(X_test)):\n",
    "    X_test_new_set[i,:] = np.concatenate((X_test[i,:], new_data[i,:]))"
   ]
  },
  {
   "cell_type": "code",
   "execution_count": 14,
   "metadata": {},
   "outputs": [],
   "source": [
    "W = np.random.normal(0, 0.01, (len(np.unique(y)), X.shape[1]+8)) # weights of shape KxL\n",
    "best_W = None\n",
    "best_accuracy = 0\n",
    "lr = 0.0001\n",
    "nb_epochs = 50\n",
    "minibatch_size = len(y) // 20\n",
    "\n",
    "losses = []\n",
    "validation_losses = []\n",
    "accuracies = []"
   ]
  },
  {
   "cell_type": "code",
   "execution_count": 15,
   "metadata": {},
   "outputs": [],
   "source": [
    "# Redéfinition de la fonction de perte\n",
    "def get_loss(y, y_pred, lambda_1, lambda_2):\n",
    "    return np.nanmean(-y*np.log(y_pred.T)) + np.nanmean(lambda_1*(W**2)) + np.nanmean(lambda_2*(np.abs(W)))"
   ]
  },
  {
   "cell_type": "code",
   "execution_count": 16,
   "metadata": {},
   "outputs": [
    {
     "name": "stdout",
     "output_type": "stream",
     "text": [
      "0.9666666666666667\n"
     ]
    }
   ],
   "source": [
    "for epoch in range(nb_epochs):\n",
    "    loss = 0\n",
    "    validation_loss = 0\n",
    "    accuracy = 0\n",
    "    for i in range(0 , X_train_new_set.shape[0], minibatch_size):\n",
    "        y_pred = softmax(W @ X_train_new_set[i:i+minibatch_size,:].T).T\n",
    "        grads = get_grads(y_train[i:i+minibatch_size], y_pred, X_train_new_set[i:i+minibatch_size])\n",
    "        W = W + lr*grads\n",
    "    loss = get_loss(y_train, softmax(W @ X_train_new_set.T), 0.01, 0.01)\n",
    "    losses.append(loss) # compute the loss on the train set\n",
    "    validation_loss = get_loss(y_validation, softmax(W @ X_validation_new_set.T), 0.01, 0.01)\n",
    "    validation_losses.append(validation_loss)\n",
    "    accuracy = get_accuracy(X_validation_new_set, y_validation, W)\n",
    "    accuracies.append(accuracy) # compute the accuracy on the validation set\n",
    "    if accuracy > best_accuracy:\n",
    "        best_accuracy = accuracy\n",
    "        best_W = W  # select the best parameters based on the validation accuracy\n",
    "\n",
    "accuracy_on_unseen_data = get_accuracy(X_test_new_set, y_test, best_W)\n",
    "print(accuracy_on_unseen_data) # 0.897506925208"
   ]
  },
  {
   "cell_type": "code",
   "execution_count": 17,
   "metadata": {},
   "outputs": [
    {
     "data": {
      "image/png": "[encoded data removed]",
      "text/plain": [
       "<Figure size 432x288 with 1 Axes>"
      ]
     },
     "metadata": {
      "needs_background": "light"
     },
     "output_type": "display_data"
    }
   ],
   "source": [
    "plt.plot(losses, label=\"train\")\n",
    "plt.plot(validation_losses, label=\"validation\")\n",
    "plt.xlabel('Epoch')\n",
    "plt.ylabel('Average negative log-likelihood')\n",
    "plt.title('')\n",
    "plt.legend(loc='best')\n",
    "plt.savefig('Figures/2_2_b.eps', format='eps')\n",
    "plt.show()"
   ]
  },
  {
   "cell_type": "code",
   "execution_count": 18,
   "metadata": {},
   "outputs": [
    {
     "data": {
      "image/png": "[encoded data removed]",
      "text/plain": [
       "<Figure size 432x288 with 1 Axes>"
      ]
     },
     "metadata": {
      "needs_background": "light"
     },
     "output_type": "display_data"
    }
   ],
   "source": [
    "plt.imshow(best_W[4, :].reshape(9,8))\n",
    "plt.savefig('Figures/2_2_b_2.eps', format='eps')"
   ]
  },
  {
   "cell_type": "code",
   "execution_count": 19,
   "metadata": {},
   "outputs": [
    {
     "name": "stdout",
     "output_type": "stream",
     "text": [
      "Moyenne des poids du modèle associés aux dimensions contenant les vraies données\n",
      "-7.328420692606736e-05\n",
      "Moyenne des poids du modèle associés aux dimensions contenant les données aleatoires\n",
      "-0.0006969203007788752\n"
     ]
    }
   ],
   "source": [
    "mean_W = np.mean(W[:,0:64])\n",
    "mean_W_rand = np.mean(W[:,64:73])\n",
    "print(\"Moyenne des poids du modèle associés aux dimensions contenant les vraies données\")\n",
    "print(mean_W)\n",
    "print(\"Moyenne des poids du modèle associés aux dimensions contenant les données aleatoires\")\n",
    "print(mean_W_rand)"
   ]
  },
  {
   "cell_type": "code",
   "execution_count": 20,
   "metadata": {},
   "outputs": [
    {
     "name": "stdout",
     "output_type": "stream",
     "text": [
      "Variance des poids du modèle associés aux dimensions contenant les vraies données\n",
      "0.0037439471309529126\n",
      "Variance des poids du modèle associés aux dimensions contenant les données aleatoires\n",
      "0.0006572784495763261\n"
     ]
    }
   ],
   "source": [
    "var_W = np.var(W[:,0:64])\n",
    "var_W_rand = np.var(W[:,64:73])\n",
    "print(\"Variance des poids du modèle associés aux dimensions contenant les vraies données\")\n",
    "print(var_W)\n",
    "print(\"Variance des poids du modèle associés aux dimensions contenant les données aleatoires\")\n",
    "print(var_W_rand)"
   ]
  },
  {
   "cell_type": "markdown",
   "metadata": {},
   "source": [
    "### Cas sans régularisation"
   ]
  },
  {
   "cell_type": "code",
   "execution_count": 21,
   "metadata": {},
   "outputs": [
    {
     "name": "stdout",
     "output_type": "stream",
     "text": [
      "0.9666666666666667\n"
     ]
    }
   ],
   "source": [
    "best_W = None\n",
    "best_accuracy = 0\n",
    "lr = 0.0001\n",
    "nb_epochs = 50\n",
    "minibatch_size = len(y) // 20\n",
    "\n",
    "losses = []\n",
    "validation_losses = []\n",
    "accuracies = []\n",
    "\n",
    "# Définition originale\n",
    "def get_loss(y, y_pred):\n",
    "    return np.nanmean(-y*np.log(y_pred.T))\n",
    "\n",
    "for epoch in range(nb_epochs):\n",
    "    loss = 0\n",
    "    validation_loss = 0\n",
    "    accuracy = 0\n",
    "    for i in range(0 , X_train_new_set.shape[0], minibatch_size):\n",
    "        y_pred = softmax(W @ X_train_new_set[i:i+minibatch_size,:].T).T\n",
    "        grads = get_grads(y_train[i:i+minibatch_size], y_pred, X_train_new_set[i:i+minibatch_size])\n",
    "        W = W + lr*grads\n",
    "    loss = get_loss(y_train, softmax(W @ X_train_new_set.T))\n",
    "    losses.append(loss) # compute the loss on the train set\n",
    "    validation_loss = get_loss(y_validation, softmax(W @ X_validation_new_set.T))\n",
    "    validation_losses.append(validation_loss)\n",
    "    accuracy = get_accuracy(X_validation_new_set, y_validation, W)\n",
    "    accuracies.append(accuracy) # compute the accuracy on the validation set\n",
    "    if accuracy > best_accuracy:\n",
    "        best_accuracy = accuracy\n",
    "        best_W = W  # select the best parameters based on the validation accuracy\n",
    "\n",
    "accuracy_on_unseen_data = get_accuracy(X_test_new_set, y_test, best_W)\n",
    "print(accuracy_on_unseen_data) # 0.897506925208"
   ]
  },
  {
   "cell_type": "code",
   "execution_count": 22,
   "metadata": {},
   "outputs": [
    {
     "name": "stdout",
     "output_type": "stream",
     "text": [
      "Moyenne des poids du modèle associés aux dimensions contenant les vraies données\n",
      "-7.328420692606988e-05\n",
      "Moyenne des poids du modèle associés aux dimensions contenant les données aleatoires\n",
      "-0.0006969203007788927\n"
     ]
    }
   ],
   "source": [
    "mean_W = np.mean(W[:,0:64])\n",
    "mean_W_rand = np.mean(W[:,64:73])\n",
    "print(\"Moyenne des poids du modèle associés aux dimensions contenant les vraies données\")\n",
    "print(mean_W)\n",
    "print(\"Moyenne des poids du modèle associés aux dimensions contenant les données aleatoires\")\n",
    "print(mean_W_rand)"
   ]
  },
  {
   "cell_type": "code",
   "execution_count": 23,
   "metadata": {},
   "outputs": [
    {
     "name": "stdout",
     "output_type": "stream",
     "text": [
      "Variance des poids du modèle associés aux dimensions contenant les vraies données\n",
      "0.005492533923045655\n",
      "Variance des poids du modèle associés aux dimensions contenant les données aleatoires\n",
      "0.0011045202409084947\n"
     ]
    }
   ],
   "source": [
    "var_W = np.var(W[:,0:64])\n",
    "var_W_rand = np.var(W[:,64:73])\n",
    "print(\"Variance des poids du modèle associés aux dimensions contenant les vraies données\")\n",
    "print(var_W)\n",
    "print(\"Variance des poids du modèle associés aux dimensions contenant les données aleatoires\")\n",
    "print(var_W_rand)"
   ]
  }
 ],
 "metadata": {
  "kernelspec": {
   "display_name": "Python 3",
   "language": "python",
   "name": "python3"
  },
  "language_info": {
   "codemirror_mode": {
    "name": "ipython",
    "version": 3
   },
   "file_extension": ".py",
   "mimetype": "text/x-python",
   "name": "python",
   "nbconvert_exporter": "python",
   "pygments_lexer": "ipython3",
   "version": "3.7.0"
  }
 },
 "nbformat": 4,
 "nbformat_minor": 2
}
