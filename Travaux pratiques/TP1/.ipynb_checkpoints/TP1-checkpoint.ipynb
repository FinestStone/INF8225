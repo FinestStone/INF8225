{
 "cells": [
  {
   "cell_type": "code",
   "execution_count": 1,
   "metadata": {},
   "outputs": [],
   "source": [
    "import numpy as np\n",
    "import matplotlib.pyplot as plt"
   ]
  },
  {
   "cell_type": "code",
   "execution_count": 2,
   "metadata": {},
   "outputs": [
    {
     "name": "stdout",
     "output_type": "stream",
     "text": [
      "Pr(Pluie)=[0.8 0.2]\n",
      "\n",
      "Pr(Arroseur)=[0.9 0.1]\n",
      "\n",
      "Pr(Watson|Pluie)=[[0.8 0.2]\n",
      " [0.  1. ]]\n",
      "\n"
     ]
    }
   ],
   "source": [
    "# les arrays sont batis avec les dimensions suivantes :\n",
    "# pluie, arroseur, watson, holmes\n",
    "# et chaque dimension: faux, vrai\n",
    "\n",
    "prob_pluie = np.array([0.8, 0.2]).reshape(2, 1, 1, 1)\n",
    "print(\"Pr(Pluie)={}\\n\".format(np.squeeze(prob_pluie)))\n",
    "\n",
    "prob_arroseur = np.array([0.9, 0.1]).reshape(1, 2, 1, 1)\n",
    "print(\"Pr(Arroseur)={}\\n\".format(np.squeeze(prob_arroseur)))\n",
    "\n",
    "watson = np.array([[0.8, 0.2], [0, 1]]).reshape(2,1,2,1)\n",
    "print(\"Pr(Watson|Pluie)={}\\n\".format(np.squeeze(watson)))"
   ]
  },
  {
   "cell_type": "code",
   "execution_count": 3,
   "metadata": {},
   "outputs": [
    {
     "name": "stdout",
     "output_type": "stream",
     "text": [
      "Pr(Holmes|Pluie,arroseur)=[[[1.  0. ]\n",
      "  [0.1 0.9]]\n",
      "\n",
      " [[0.  1. ]\n",
      "  [0.  1. ]]]\n",
      "\n"
     ]
    }
   ],
   "source": [
    "holmes = np.array([[1, 0],[0.1, 0.9],[0, 1],[0, 1]]).reshape(2, 2, 1, 2)\n",
    "print(\"Pr(Holmes|Pluie,arroseur)={}\\n\".format(np.squeeze(holmes)))"
   ]
  },
  {
   "cell_type": "code",
   "execution_count": 4,
   "metadata": {},
   "outputs": [
    {
     "data": {
      "text/plain": [
       "array([[0.2]])"
      ]
     },
     "execution_count": 4,
     "metadata": {},
     "output_type": "execute_result"
    }
   ],
   "source": [
    "watson[0,:,1,:] # prob watson mouille − pluie"
   ]
  },
  {
   "cell_type": "code",
   "execution_count": 5,
   "metadata": {},
   "outputs": [
    {
     "data": {
      "text/plain": [
       "0.36000000000000004"
      ]
     },
     "execution_count": 5,
     "metadata": {},
     "output_type": "execute_result"
    }
   ],
   "source": [
    "(watson * prob_pluie).sum(0).squeeze()[1] # prob gazon watson mouille"
   ]
  },
  {
   "cell_type": "code",
   "execution_count": 6,
   "metadata": {},
   "outputs": [
    {
     "data": {
      "text/plain": [
       "0.9"
      ]
     },
     "execution_count": 6,
     "metadata": {},
     "output_type": "execute_result"
    }
   ],
   "source": [
    "holmes[0, 1, 0, 1] # prob gazon holmes mouille si arroseur − pluie"
   ]
  },
  {
   "cell_type": "code",
   "execution_count": 7,
   "metadata": {
    "scrolled": true
   },
   "outputs": [
    {
     "name": "stdout",
     "output_type": "stream",
     "text": [
      "Pr(W = 1) = 0.36000000000000004\n",
      "\n",
      "Pr(W = 1|H = 1) = 0.7882352941176471\n",
      "\n",
      "Pr(W = 1|H = 1, A = 0) = 1.0\n",
      "\n",
      "Pr(W = 1|A = 0) = 0.36000000000000004\n",
      "\n",
      "Pr(W = 1|P = 1) = 1.0\n",
      "\n"
     ]
    }
   ],
   "source": [
    "print(\"Pr(W = 1) = {}\\n\".format(np.squeeze((watson * prob_pluie).sum(0).squeeze()[1])))\n",
    "print(\"Pr(W = 1|H = 1) = {}\\n\".format((prob_pluie * prob_arroseur * watson * holmes)[:,:,1,1].sum()/(prob_pluie * prob_arroseur * watson * holmes)[:,:,:,1].sum()))\n",
    "print(\"Pr(W = 1|H = 1, A = 0) = {}\\n\".format((prob_pluie * prob_arroseur * watson * holmes)[:,0,1,1].sum()/(prob_pluie * prob_arroseur * watson * holmes)[:,0,:,1].sum()))\n",
    "print(\"Pr(W = 1|A = 0) = {}\\n\".format((prob_pluie * prob_arroseur * watson * holmes)[:,0,1,:].sum()/(prob_pluie * prob_arroseur * watson * holmes)[:,0,:,:].sum()))\n",
    "print(\"Pr(W = 1|P = 1) = {}\\n\".format((prob_pluie * prob_arroseur * watson * holmes)[1,:,1,:].sum()/(prob_pluie * prob_arroseur * watson * holmes)[1,:,:,:].sum()))"
   ]
  },
  {
   "cell_type": "markdown",
   "metadata": {},
   "source": [
    "## 2.2"
   ]
  },
  {
   "cell_type": "code",
   "execution_count": 1,
   "metadata": {},
   "outputs": [],
   "source": [
    "import numpy as np\n",
    "import matplotlib.pyplot as plt\n",
    "from sklearn import datasets\n",
    "from sklearn.model_selection import train_test_split\n",
    "\n",
    "digits = datasets.load_digits()\n",
    "\n",
    "X = digits.data\n",
    "y = digits.target"
   ]
  },
  {
   "cell_type": "code",
   "execution_count": 2,
   "metadata": {},
   "outputs": [],
   "source": [
    "y_one_hot = np.zeros((y.shape[0], len(np.unique(y))))\n",
    "y_one_hot[np.arange(y.shape[0]), y] = 1 # one hot target or shape NxK\n",
    "\n",
    "\n",
    "X_train, X_test, y_train, y_test = train_test_split(X, y_one_hot, test_size=0.3, random_state=42)\n",
    "\n",
    "X_test, X_validation, y_test, y_validation = train_test_split(X_test, y_test, test_size=0.5, random_state=42)"
   ]
  },
  {
   "cell_type": "code",
   "execution_count": 3,
   "metadata": {},
   "outputs": [],
   "source": [
    "W = np.random.normal(0, 0.01, (len(np.unique(y)), X.shape[1])) # weights of shape KxL\n",
    "\n",
    "best_W = None\n",
    "best_accuracy = 0\n",
    "lr = 0.001\n",
    "nb_epochs = 50\n",
    "minibatch_size = len(y) // 20\n",
    "\n",
    "losses = []\n",
    "accuracies = []\n",
    "\n",
    "def softmax(x): # definition taken from the book (p.397)\n",
    "    temp = np.exp(x-x.max(0)) # Substract the maximum value doesn't alter the result and ensures numerical stability\n",
    "    return temp/temp.sum(0)\n",
    "\n",
    "# softmax(np.array([10, 100, 1000, 10000]))\n",
    "\n",
    "def get_accuracy(X, y, W):\n",
    "    y_hat_one_hot = softmax(W @ X.T) # Finding, for each image, the probability that it belongs to each class\n",
    "    y_hat = np.argmax(y_hat_one_hot, axis=0) # Classifying the image with the most probable class according to the softmax\n",
    "    y_class = np.argmax(y, axis=1) # Correct classes for each image in the set\n",
    "    return np.sum(y_class == y_hat)/y.shape[0] # Correctly classified images / Total number of images in the set\n",
    "\n",
    "def get_grads(y, y_pred, X):\n",
    "    return y.T @ X - y_pred.T @ X # Definition of the gradient of the log-conditional-likelihood given in the assignment\n",
    "\n",
    "def get_loss(y, y_pred):\n",
    "    return np.mean(-y*np.log(y_pred.T), axis=0)"
   ]
  },
  {
   "cell_type": "code",
   "execution_count": 4,
   "metadata": {},
   "outputs": [
    {
     "data": {
      "image/png": "[encoded data removed]",
      "text/plain": [
       "<Figure size 432x288 with 1 Axes>"
      ]
     },
     "metadata": {
      "needs_background": "light"
     },
     "output_type": "display_data"
    }
   ],
   "source": [
    "for epoch in range(nb_epochs):\n",
    "    loss = 0\n",
    "    accuracy = 0\n",
    "    for i in range(0 , X_train.shape[0], minibatch_size):\n",
    "        y_pred = softmax(W @ X_train[i:i+minibatch_size,:].T).T\n",
    "        grads = get_grads(y_train[i:i+minibatch_size], y_pred, X_train[i:i+minibatch_size])\n",
    "        W = W + lr*grads\n",
    "    loss = get_loss(y_train, softmax(W @ X_train.T))\n",
    "    losses.append(loss) # compute the loss on the train set\n",
    "    accuracy = get_accuracy(X_validation, y_validation, W)\n",
    "    accuracies.append(accuracy) # compute the accuracy on the validation set\n",
    "    if accuracy > best_accuracy:\n",
    "        best_W = W  # select the best parameters based on the validation accuracy\n",
    "\n",
    "plt.plot(losses)\n",
    "plt.show()"
   ]
  },
  {
   "cell_type": "code",
   "execution_count": 5,
   "metadata": {},
   "outputs": [
    {
     "name": "stdout",
     "output_type": "stream",
     "text": [
      "0.9703703703703703\n"
     ]
    }
   ],
   "source": [
    "accuracy_on_unseen_data = get_accuracy(X_test, y_test, best_W)\n",
    "print(accuracy_on_unseen_data) # 0.897506925208"
   ]
  },
  {
   "cell_type": "code",
   "execution_count": 7,
   "metadata": {},
   "outputs": [
    {
     "data": {
      "text/plain": [
       "<matplotlib.image.AxesImage at 0x2abe7c5fdd8>"
      ]
     },
     "execution_count": 7,
     "metadata": {},
     "output_type": "execute_result"
    },
    {
     "data": {
      "image/png": "[encoded data removed]",
      "text/plain": [
       "<Figure size 432x288 with 1 Axes>"
      ]
     },
     "metadata": {
      "needs_background": "light"
     },
     "output_type": "display_data"
    }
   ],
   "source": [
    "plt.imshow(best_W[4, :].reshape(8,8))"
   ]
  }
 ],
 "metadata": {
  "kernelspec": {
   "display_name": "Python 3",
   "language": "python",
   "name": "python3"
  },
  "language_info": {
   "codemirror_mode": {
    "name": "ipython",
    "version": 3
   },
   "file_extension": ".py",
   "mimetype": "text/x-python",
   "name": "python",
   "nbconvert_exporter": "python",
   "pygments_lexer": "ipython3",
   "version": "3.7.1"
  }
 },
 "nbformat": 4,
 "nbformat_minor": 2
}
