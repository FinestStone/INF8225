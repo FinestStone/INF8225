{
 "cells": [
  {
   "cell_type": "code",
   "execution_count": 1,
   "metadata": {},
   "outputs": [
    {
     "name": "stderr",
     "output_type": "stream",
     "text": [
      "Using TensorFlow backend.\n"
     ]
    }
   ],
   "source": [
    "# Code du reseau CNN\n",
    "from keras.datasets import fashion_mnist\n",
    "from keras.models import Sequential\n",
    "from keras.layers.convolutional import Conv2D\n",
    "from keras.layers.convolutional import MaxPooling2D\n",
    "from keras.layers.core import Activation\n",
    "from keras.layers.core import Flatten\n",
    "from keras.layers.core import Dropout\n",
    "from keras.layers.core import Dense\n",
    "from keras.utils import np_utils\n",
    "from keras.optimizers import Adam\n",
    "from keras.metrics import categorical_crossentropy\n",
    "from sklearn.metrics import classification_report\n",
    "from keras.utils import to_categorical\n",
    "import matplotlib.pyplot as plt"
   ]
  },
  {
   "cell_type": "code",
   "execution_count": 2,
   "metadata": {},
   "outputs": [],
   "source": [
    "((trainX, trainY), (testX, testY)) = fashion_mnist.load_data()"
   ]
  },
  {
   "cell_type": "code",
   "execution_count": 3,
   "metadata": {},
   "outputs": [],
   "source": [
    "#reshape data to fit model\n",
    "trainX = trainX.reshape((trainX.shape[0], 28, 28, 1))\n",
    "testX = testX.reshape((testX.shape[0], 28, 28, 1))\n",
    "\n",
    "# scale data to the range of [0, 1]\n",
    "trainX = trainX.astype(\"float32\") / 255.0\n",
    "testX = testX.astype(\"float32\") / 255.0"
   ]
  },
  {
   "cell_type": "code",
   "execution_count": 4,
   "metadata": {},
   "outputs": [],
   "source": [
    "#one-hot encode target column\n",
    "trainY = to_categorical(trainY, 10)\n",
    "testY = to_categorical(testY, 10)"
   ]
  },
  {
   "cell_type": "code",
   "execution_count": 5,
   "metadata": {},
   "outputs": [],
   "source": [
    "#create model\n",
    "model = Sequential()\n",
    "#add model layers\n",
    "model.add(Conv2D(32, kernel_size=3, activation='relu', input_shape=(28,28,1)))\n",
    "model.add(Conv2D(16, kernel_size=3, activation='relu'))\n",
    "model.add(MaxPooling2D(pool_size=(2, 2)))\n",
    "model.add(Dropout(0.25))\n",
    "model.add(Flatten())\n",
    "model.add(Dense(128, activation='relu'))\n",
    "model.add(Dropout(0.25))\n",
    "model.add(Dense(10, activation='softmax'))"
   ]
  },
  {
   "cell_type": "code",
   "execution_count": 6,
   "metadata": {},
   "outputs": [],
   "source": [
    "# compile model using accuracy to measure model performance\n",
    "model.compile(optimizer='adam', loss='categorical_crossentropy', metrics=['accuracy'])"
   ]
  },
  {
   "cell_type": "code",
   "execution_count": 7,
   "metadata": {},
   "outputs": [
    {
     "name": "stdout",
     "output_type": "stream",
     "text": [
      "Train on 48000 samples, validate on 12000 samples\n",
      "Epoch 1/7\n",
      "48000/48000 [==============================] - 96s 2ms/step - loss: 0.4655 - acc: 0.8322 - val_loss: 0.3271 - val_acc: 0.8828\n",
      "Epoch 2/7\n",
      "48000/48000 [==============================] - 104s 2ms/step - loss: 0.3232 - acc: 0.8814 - val_loss: 0.2829 - val_acc: 0.8947\n",
      "Epoch 3/7\n",
      "48000/48000 [==============================] - 114s 2ms/step - loss: 0.2789 - acc: 0.8979 - val_loss: 0.2652 - val_acc: 0.9038\n",
      "Epoch 4/7\n",
      "48000/48000 [==============================] - 104s 2ms/step - loss: 0.2518 - acc: 0.9081 - val_loss: 0.2429 - val_acc: 0.9136\n",
      "Epoch 5/7\n",
      "48000/48000 [==============================] - 113s 2ms/step - loss: 0.2314 - acc: 0.9150 - val_loss: 0.2259 - val_acc: 0.9187\n",
      "Epoch 6/7\n",
      "48000/48000 [==============================] - 92s 2ms/step - loss: 0.2112 - acc: 0.9222 - val_loss: 0.2249 - val_acc: 0.9171\n",
      "Epoch 7/7\n",
      "48000/48000 [==============================] - 96s 2ms/step - loss: 0.1954 - acc: 0.9271 - val_loss: 0.2329 - val_acc: 0.9130\n"
     ]
    }
   ],
   "source": [
    "#train the model\n",
    "epochs = 7\n",
    "batch_size = 32\n",
    "H = model.fit(trainX, trainY, validation_split=0.2, batch_size=batch_size, epochs=epochs)"
   ]
  },
  {
   "cell_type": "code",
   "execution_count": 8,
   "metadata": {},
   "outputs": [],
   "source": [
    "#predict test set\n",
    "preds = model.predict(testX)"
   ]
  },
  {
   "cell_type": "code",
   "execution_count": 9,
   "metadata": {},
   "outputs": [
    {
     "name": "stdout",
     "output_type": "stream",
     "text": [
      "              precision    recall  f1-score   support\n",
      "\n",
      "         top       0.88      0.85      0.87      1000\n",
      "     trouser       0.99      0.98      0.99      1000\n",
      "    pullover       0.88      0.83      0.85      1000\n",
      "       dress       0.91      0.90      0.91      1000\n",
      "        coat       0.77      0.95      0.85      1000\n",
      "      sandal       0.98      0.98      0.98      1000\n",
      "       shirt       0.80      0.69      0.74      1000\n",
      "     sneaker       0.96      0.96      0.96      1000\n",
      "         bag       0.98      0.99      0.98      1000\n",
      "  ankle boot       0.97      0.97      0.97      1000\n",
      "\n",
      "   micro avg       0.91      0.91      0.91     10000\n",
      "   macro avg       0.91      0.91      0.91     10000\n",
      "weighted avg       0.91      0.91      0.91     10000\n",
      "\n"
     ]
    }
   ],
   "source": [
    "#initialize the label names\n",
    "labelNames = [\"top\", \"trouser\", \"pullover\", \"dress\", \"coat\", \"sandal\", \"shirt\", \"sneaker\", \"bag\", \"ankle boot\"]\n",
    "#print report\n",
    "print(classification_report(testY.argmax(axis=1), preds.argmax(axis=1), target_names=labelNames))"
   ]
  },
  {
   "cell_type": "code",
   "execution_count": 10,
   "metadata": {},
   "outputs": [
    {
     "data": {
      "image/png": "[encoded data removed]",
      "text/plain": [
       "<Figure size 432x288 with 1 Axes>"
      ]
     },
     "metadata": {
      "needs_background": "light"
     },
     "output_type": "display_data"
    }
   ],
   "source": [
    "#summarize history for accuracy\n",
    "plt.plot(H.history['acc'])\n",
    "plt.plot(H.history['val_acc'])\n",
    "plt.title('model accuracy')\n",
    "plt.ylabel('accuracy')\n",
    "plt.xlabel('epoch')\n",
    "plt.legend(['train', 'val'], loc='upper left')\n",
    "plt.savefig('accuracy7.png')\n",
    "plt.show()"
   ]
  },
  {
   "cell_type": "code",
   "execution_count": 11,
   "metadata": {},
   "outputs": [
    {
     "data": {
      "image/png": "[encoded data removed]",
      "text/plain": [
       "<Figure size 432x288 with 1 Axes>"
      ]
     },
     "metadata": {
      "needs_background": "light"
     },
     "output_type": "display_data"
    }
   ],
   "source": [
    "#summarize history for loss\n",
    "plt.plot(H.history['loss'])\n",
    "plt.plot(H.history['val_loss'])\n",
    "plt.title('model loss')\n",
    "plt.ylabel('loss')\n",
    "plt.xlabel('epoch')\n",
    "plt.legend(['train', 'val'], loc='upper left')\n",
    "plt.savefig('loss7.png')\n",
    "plt.show()"
   ]
  },
  {
   "cell_type": "code",
   "execution_count": 12,
   "metadata": {},
   "outputs": [],
   "source": [
    "# Code du reseau FCNN\n",
    "from keras.datasets import fashion_mnist\n",
    "from keras.models import Sequential\n",
    "from keras.layers.normalization import BatchNormalization\n",
    "from keras.layers.convolutional import Conv2D\n",
    "from keras.layers.convolutional import MaxPooling2D\n",
    "from keras.layers.core import Activation\n",
    "from keras.layers.core import Flatten\n",
    "from keras.layers.core import Dropout\n",
    "from keras.layers.core import Dense\n",
    "from keras.utils import np_utils\n",
    "from keras.optimizers import SGD\n",
    "from keras import backend as K\n",
    "import matplotlib.pyplot as plt"
   ]
  },
  {
   "cell_type": "code",
   "execution_count": 13,
   "metadata": {},
   "outputs": [],
   "source": [
    "((trainX, trainY), (testX, testY)) = fashion_mnist.load_data()"
   ]
  },
  {
   "cell_type": "code",
   "execution_count": 14,
   "metadata": {},
   "outputs": [],
   "source": [
    "trainX = trainX.reshape((trainX.shape[0], 28**2))\n",
    "testX = testX.reshape((testX.shape[0], 28**2))\n",
    "\n",
    "# scale data to the range of [0, 1]\n",
    "trainX = trainX.astype(\"float32\") / 255.0\n",
    "testX = testX.astype(\"float32\") / 255.0\n",
    " \n",
    "# one-hot encode the training and testing labels\n",
    "trainY = np_utils.to_categorical(trainY, 10)\n",
    "testY = np_utils.to_categorical(testY, 10)\n",
    " \n",
    "# initialize the label names\n",
    "labelNames = [\"top\", \"trouser\", \"pullover\", \"dress\", \"coat\", \"sandal\", \"shirt\", \"sneaker\", \"bag\", \"ankle boot\"]"
   ]
  },
  {
   "cell_type": "code",
   "execution_count": 15,
   "metadata": {},
   "outputs": [],
   "source": [
    "model = Sequential()\n",
    "# f_activation = \"sigmoid\"\n",
    "# f_activation = \"softmax\"\n",
    "# f_activation = \"selu\"\n",
    "f_activation = \"relu\"\n",
    "\n",
    "model.add(Dense(512,input_shape=(784,)))\n",
    "model.add(Activation(f_activation))\n",
    "\n",
    "model.add(Dense(256,input_shape=(512,)))\n",
    "model.add(Activation(f_activation))\n",
    "\n",
    "model.add(Dense(128,input_shape=(256,)))\n",
    "model.add(Activation(f_activation))\n",
    "\n",
    "model.add(Dense(64,input_shape=(128,)))\n",
    "model.add(Activation(f_activation))\n",
    "\n",
    "model.add(Dense(32,input_shape=(64,)))\n",
    "model.add(Activation(f_activation))\n",
    "\n",
    "model.add(Dense(10,input_shape=(32,)))\n",
    "model.add(Activation(\"softmax\"))\n",
    "\n",
    "# model.add(Dense(655,input_shape=(784,)))\n",
    "# model.add(Activation(f_activation))\n",
    "\n",
    "# model.add(Dense(526,input_shape=(655,)))\n",
    "# model.add(Activation(f_activation))\n",
    "\n",
    "# model.add(Dense(397,input_shape=(526,)))\n",
    "# model.add(Activation(f_activation))\n",
    "\n",
    "# model.add(Dense(268,input_shape=(397,)))\n",
    "# model.add(Activation(f_activation))\n",
    "\n",
    "# model.add(Dense(139,input_shape=(268,)))\n",
    "# model.add(Activation(f_activation))\n",
    "\n",
    "# model.add(Dense(10,input_shape=(139,)))\n",
    "# model.add(Activation(\"softmax\"))"
   ]
  },
  {
   "cell_type": "code",
   "execution_count": 16,
   "metadata": {},
   "outputs": [],
   "source": [
    "epochs = 7\n",
    "learning_rate = 1e-2\n",
    "batch_size = 32"
   ]
  },
  {
   "cell_type": "code",
   "execution_count": 17,
   "metadata": {},
   "outputs": [],
   "source": [
    "opt = SGD(lr=learning_rate, momentum=0.9, decay=learning_rate / epochs)\n",
    "model.compile(loss=\"categorical_crossentropy\", optimizer=opt, metrics=[\"accuracy\"])"
   ]
  },
  {
   "cell_type": "code",
   "execution_count": 18,
   "metadata": {},
   "outputs": [
    {
     "name": "stdout",
     "output_type": "stream",
     "text": [
      "Train on 60000 samples, validate on 10000 samples\n",
      "Epoch 1/7\n",
      "60000/60000 [==============================] - 19s 313us/step - loss: 0.5289 - acc: 0.8089 - val_loss: 0.4127 - val_acc: 0.8487\n",
      "Epoch 2/7\n",
      "60000/60000 [==============================] - 16s 264us/step - loss: 0.3587 - acc: 0.8688 - val_loss: 0.3908 - val_acc: 0.8548\n",
      "Epoch 3/7\n",
      "60000/60000 [==============================] - 16s 263us/step - loss: 0.3242 - acc: 0.8816 - val_loss: 0.3543 - val_acc: 0.8694\n",
      "Epoch 4/7\n",
      "60000/60000 [==============================] - 16s 263us/step - loss: 0.3020 - acc: 0.8888 - val_loss: 0.3540 - val_acc: 0.8705\n",
      "Epoch 5/7\n",
      "60000/60000 [==============================] - 16s 262us/step - loss: 0.2875 - acc: 0.8939 - val_loss: 0.3429 - val_acc: 0.8724\n",
      "Epoch 6/7\n",
      "60000/60000 [==============================] - 16s 264us/step - loss: 0.2762 - acc: 0.8973 - val_loss: 0.3442 - val_acc: 0.8756\n",
      "Epoch 7/7\n",
      "60000/60000 [==============================] - 16s 264us/step - loss: 0.2662 - acc: 0.9022 - val_loss: 0.3370 - val_acc: 0.8768\n"
     ]
    }
   ],
   "source": [
    "H = model.fit(trainX, trainY, validation_data=(testX, testY), batch_size=batch_size, epochs=epochs)"
   ]
  },
  {
   "cell_type": "code",
   "execution_count": 19,
   "metadata": {},
   "outputs": [],
   "source": [
    "preds = model.predict(testX)"
   ]
  },
  {
   "cell_type": "code",
   "execution_count": 20,
   "metadata": {},
   "outputs": [
    {
     "name": "stdout",
     "output_type": "stream",
     "text": [
      "              precision    recall  f1-score   support\n",
      "\n",
      "         top       0.81      0.84      0.83      1000\n",
      "     trouser       0.99      0.96      0.98      1000\n",
      "    pullover       0.79      0.77      0.78      1000\n",
      "       dress       0.87      0.90      0.88      1000\n",
      "        coat       0.80      0.80      0.80      1000\n",
      "      sandal       0.96      0.95      0.96      1000\n",
      "       shirt       0.68      0.67      0.68      1000\n",
      "     sneaker       0.92      0.97      0.94      1000\n",
      "         bag       0.97      0.97      0.97      1000\n",
      "  ankle boot       0.97      0.94      0.96      1000\n",
      "\n",
      "   micro avg       0.88      0.88      0.88     10000\n",
      "   macro avg       0.88      0.88      0.88     10000\n",
      "weighted avg       0.88      0.88      0.88     10000\n",
      "\n"
     ]
    }
   ],
   "source": [
    "from sklearn.metrics import classification_report\n",
    "print(classification_report(testY.argmax(axis=1), preds.argmax(axis=1), target_names=labelNames))"
   ]
  },
  {
   "cell_type": "code",
   "execution_count": 21,
   "metadata": {},
   "outputs": [
    {
     "data": {
      "image/png": "[encoded data removed]",
      "text/plain": [
       "<Figure size 432x288 with 1 Axes>"
      ]
     },
     "metadata": {
      "needs_background": "light"
     },
     "output_type": "display_data"
    }
   ],
   "source": [
    "#summarize history for accuracy\n",
    "plt.plot(H.history['acc'])\n",
    "plt.plot(H.history['val_acc'])\n",
    "plt.title('Model Accuracy')\n",
    "plt.ylabel('accuracy')\n",
    "plt.xlabel('epoch')\n",
    "plt.legend(['Train', 'val'], loc='upper left')\n",
    "plt.savefig('accuracy2.eps')\n",
    "plt.show()"
   ]
  },
  {
   "cell_type": "code",
   "execution_count": 22,
   "metadata": {},
   "outputs": [
    {
     "data": {
      "image/png": "[encoded data removed]",
      "text/plain": [
       "<Figure size 432x288 with 1 Axes>"
      ]
     },
     "metadata": {
      "needs_background": "light"
     },
     "output_type": "display_data"
    }
   ],
   "source": [
    "#summarize history for loss\n",
    "plt.plot(H.history['loss'])\n",
    "plt.plot(H.history['val_loss'])\n",
    "plt.title('model loss')\n",
    "plt.ylabel('loss')\n",
    "plt.xlabel('epoch')\n",
    "plt.legend(['train', 'val'], loc='upper left')\n",
    "# plt.savefig('loss2.eps')\n",
    "plt.show()"
   ]
  }
 ],
 "metadata": {
  "kernelspec": {
   "display_name": "Python 3",
   "language": "python",
   "name": "python3"
  },
  "language_info": {
   "codemirror_mode": {
    "name": "ipython",
    "version": 3
   },
   "file_extension": ".py",
   "mimetype": "text/x-python",
   "name": "python",
   "nbconvert_exporter": "python",
   "pygments_lexer": "ipython3",
   "version": "3.6.8"
  }
 },
 "nbformat": 4,
 "nbformat_minor": 2
}
